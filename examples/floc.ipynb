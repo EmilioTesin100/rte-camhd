{
 "cells": [
  {
   "cell_type": "markdown",
   "metadata": {},
   "source": [
    "# Floc Analysis\n",
    "\n",
    "This page shows an example of doing an analysis of the watercolumn floc using the CamHDHub and Dask. The goal of this work is to understand changes in the concentration of \"floc\", or bacterial material that has been flushed from the hydrothermal system into the ocean. Changes in floc are an indicator of changes in the hydrothermal system, often as a result of a magmatic event or seismic swarm.\n",
    "\n",
    "This notebook uses [Dask](http://dask.pydata.org/en/latest/) to analyze a large number of frames to establish a proxy for the floc concentration, then plots this value using a two-dimensional multivariate histogram."
   ]
  },
  {
   "cell_type": "markdown",
   "metadata": {},
   "source": [
    "#### Setup your environment"
   ]
  },
  {
   "cell_type": "code",
   "execution_count": null,
   "metadata": {},
   "outputs": [],
   "source": [
    "%matplotlib inline\n",
    "import pycamhd.pycamhd as camhd\n",
    "import numpy as np\n",
    "import matplotlib.pyplot as plt"
   ]
  },
  {
   "cell_type": "markdown",
   "metadata": {},
   "source": [
    "#### Get a list of local CamHD files to process"
   ]
  },
  {
   "cell_type": "code",
   "execution_count": null,
   "metadata": {},
   "outputs": [],
   "source": [
    "import glob\n",
    "filenames = glob.glob('/data/*.mov')\n",
    "filenames.sort()"
   ]
  },
  {
   "cell_type": "markdown",
   "metadata": {},
   "source": [
    "#### Define the frame numbers from each file to process"
   ]
  },
  {
   "cell_type": "code",
   "execution_count": null,
   "metadata": {},
   "outputs": [],
   "source": [
    "#frame_numbers = [3841,3842,3843,3871,3872,3873,3901,3902,3903,3931,3932,\n",
    "#                 3933,3961,3962,3963,3991,3992,3993,4021,4022,4023,4051,\n",
    "#                 4052,4053,4081,4082,4083,4111,4112,4113,4141,4142,4143,\n",
    "#                 4171,4172,4173,4201,4202,4203,4231,4232,4233,4261,4262,\n",
    "#                 4263,4291,4292,4293,4321,4322,4323,4351,4352,4353,4381,\n",
    "#                 4382,4383,4411,4412,4413]\n",
    "\n",
    "# NOTE: the full frame list takes ~1 hour to process here we\n",
    "# just process a subset which takes about 8 minutes \n",
    "frame_numbers = [3841,3933,4052,4171,4263,4382]"
   ]
  },
  {
   "cell_type": "markdown",
   "metadata": {},
   "source": [
    "These frame numbers correspond to times when the camera system is looking over the \"shoulder\" of Mushroom vent. For each file in filenames, and for each frame in frame_numbers, we will process a 1024x1024 subimage that looks like this:"
   ]
  },
  {
   "cell_type": "code",
   "execution_count": null,
   "metadata": {},
   "outputs": [],
   "source": [
    "import matplotlib.patches as patches\n",
    "plt.rc('figure', figsize=(11, 11))\n",
    "frame = camhd.get_frame(filenames[2], frame_numbers[0], 'rgb24')\n",
    "fig, ax = plt.subplots();\n",
    "im1 = ax.imshow(frame);\n",
    "im1.set_cmap('gray');\n",
    "plt.yticks(np.arange(0,1081,270))\n",
    "plt.xticks(np.arange(0,1921,480));\n",
    "\n",
    "# ROI\n",
    "rect = patches.Rectangle((10,10),1024,1024,linewidth=1.5,edgecolor='w',facecolor='none');\n",
    "ax.add_patch(rect);\n",
    "plt.show();"
   ]
  },
  {
   "cell_type": "markdown",
   "metadata": {},
   "source": [
    "#### Create the filter for filtering images in the frequency domain\n",
    "To deal with variations in lighting and high-frequency noise, we filter each subimage using a Butterworth bandpass filter."
   ]
  },
  {
   "cell_type": "code",
   "execution_count": null,
   "metadata": {},
   "outputs": [],
   "source": [
    "plt.rc('figure', figsize=(6, 6))\n",
    "d1 = 20; # low cut wavenumber\n",
    "d2 = 400; # high cut wavenumber\n",
    "n = 4;\n",
    "x = np.arange(-1024/2+0.5,1024/2+1-0.5)\n",
    "xx, yy = np.meshgrid(x, x)\n",
    "d = np.sqrt(xx**2+yy**2);\n",
    "bff = (1 - (1./(1 + (d/d1)**(2*n))))*(1/(1 + (d/d2)**(2*n))); # Butterworth bandpass filter\n",
    "imgplot = plt.imshow(bff, cmap='gray')"
   ]
  },
  {
   "cell_type": "markdown",
   "metadata": {},
   "source": [
    "#### Setup the Dask delayed functions\n",
    "The floc proxy is simply the number of pixels in each filtered subimage that have a value greater than 4000."
   ]
  },
  {
   "cell_type": "code",
   "execution_count": null,
   "metadata": {},
   "outputs": [],
   "source": [
    "from dask.multiprocessing import get\n",
    "from dask import delayed, compute\n",
    "\n",
    "@delayed\n",
    "def delayed_get_frame(filename, frame_number, pix_fmt):\n",
    "    return camhd.get_frame(filename, frame_number, pix_fmt)\n",
    "\n",
    "@delayed\n",
    "def delayed_get_floc_proxy(frame):\n",
    "    I = frame[0:1024, 0:1024]\n",
    "    I_fft = np.fft.fft2(I);\n",
    "    I_fft_shift = np.fft.fftshift(I_fft);\n",
    "    I_fft_shift_filt = I_fft_shift*bff; # filter with the Butterworth filter\n",
    "    I_fft_filt = np.fft.ifftshift(I_fft_shift_filt);\n",
    "    I_filt = np.fft.ifft2(I_fft_filt);\n",
    "    return (np.absolute(I_filt)>4000).sum()"
   ]
  },
  {
   "cell_type": "markdown",
   "metadata": {},
   "source": [
    "#### Calculate the floc_proxy using Dask parallelization\n",
    "We use Dask to handle load balancing among processors on the system."
   ]
  },
  {
   "cell_type": "code",
   "execution_count": null,
   "metadata": {},
   "outputs": [],
   "source": [
    "%%time\n",
    "delayed_floc_proxy = []\n",
    "for filename in filenames:\n",
    "    for frame_number in frame_numbers:\n",
    "        frame = delayed_get_frame(filename, frame_number, 'gray16le')\n",
    "        delayed_floc_proxy.append(delayed_get_floc_proxy(frame))\n",
    "floc_proxy = compute(*delayed_floc_proxy)"
   ]
  },
  {
   "cell_type": "markdown",
   "metadata": {},
   "source": [
    "#### Get a timestamp for each frame"
   ]
  },
  {
   "cell_type": "code",
   "execution_count": null,
   "metadata": {},
   "outputs": [],
   "source": [
    "import datetime, math\n",
    "import matplotlib.dates as dates\n",
    "frame_timestamp = []\n",
    "for filename in filenames:\n",
    "    for frame_number in frame_numbers:\n",
    "        year = int(filename[16:20])\n",
    "        month = int(filename[20:22])\n",
    "        day = int(filename[22:24])\n",
    "        hour = int(filename[25:27])\n",
    "        minute = int(math.floor(frame_number/29.95/60))\n",
    "        second = int(math.floor(frame_number/29.95-minute*60))\n",
    "        microsecond = int(round((frame_number/29.95-second-minute*60)*1000000))\n",
    "        dt = datetime.datetime(year, month, day, hour, minute, second, microsecond)\n",
    "        frame_timestamp.append(dates.date2num(dt))"
   ]
  },
  {
   "cell_type": "markdown",
   "metadata": {},
   "source": [
    "#### Plot a two-dimensional multivariate histogram of the results"
   ]
  },
  {
   "cell_type": "code",
   "execution_count": null,
   "metadata": {},
   "outputs": [],
   "source": [
    "plt.rc('font', size=11)\n",
    "fig, ax = plt.subplots();\n",
    "fig.set_size_inches(14, 6);\n",
    "fig.frameon = False\n",
    "hb1 = ax.hexbin(frame_timestamp, floc_proxy, vmin=0, vmax=1, bins='log', linewidths=0.25,\n",
    "  gridsize=(225,4500), mincnt=1, cmap=plt.cm.BuPu)\n",
    "fig.colorbar(hb1)\n",
    "ax.set_ylim([0, 8000])\n",
    "ax.set_xlim([frame_timestamp[0],frame_timestamp[-1]])\n",
    "ax.yaxis.grid(True)\n",
    "ax.xaxis.grid(True)\n",
    "months = dates.MonthLocator()  # every month\n",
    "monthsFmt = dates.DateFormatter('%b %Y')\n",
    "ax.xaxis.set_major_locator(months)\n",
    "ax.xaxis.set_major_formatter(monthsFmt)\n",
    "plt.ylabel('Floc Proxy Value');"
   ]
  },
  {
   "cell_type": "markdown",
   "metadata": {},
   "source": [
    "Starting in mid-June a large \"floc event\" occurs where the floc proxy values increase on average by about a factor of ten. The cause of this floc event is being investigated."
   ]
  },
  {
   "cell_type": "markdown",
   "metadata": {},
   "source": [
    "### References\n",
    "\n",
    "PyCamHD: https://github.com/tjcrone/pycamhd<br>\n",
    "CamHDHub: https://github.com/tjcrone/camhdhub<br>\n",
    "Raw Data Archive: https://rawdata.oceanobservatories.org/files/RS03ASHS/PN03B/06-CAMHDA301/<br>\n",
    "AGU Abstract: https://agu.confex.com/agu/fm16/meetingapp.cgi/Paper/192670<br>\n",
    "AGU Poster: https://drive.google.com/open?id=0B-dWW4GM434obGpTM0FZME10Nkk<br>\n",
    "Dask: http://dask.pydata.org/en/latest/"
   ]
  }
 ],
 "metadata": {
  "language_info": {
   "name": "python",
   "pygments_lexer": "ipython3"
  }
 },
 "nbformat": 4,
 "nbformat_minor": 2
}

{
 "cells": [
  {
   "cell_type": "markdown",
   "metadata": {},
   "source": [
    "# dbCamHD\n",
    "\n",
    "This notebook is an attempt to create a metadata database using the pycamhd library."
   ]
  },
  {
   "cell_type": "markdown",
   "metadata": {},
   "source": [
    "#### Setup environment"
   ]
  },
  {
   "cell_type": "code",
   "execution_count": null,
   "metadata": {},
   "outputs": [],
   "source": [
    "%matplotlib inline\n",
    "import pycamhd.pycamhd as camhd\n",
    "import numpy as np\n",
    "import pandas as pd"
   ]
  },
  {
   "cell_type": "markdown",
   "metadata": {},
   "source": [
    "#### Get a list of files from the server\n",
    "This operation can take many minutes (10-15), and sometimes fails when the server has some random issue. I don't recommend doing this very often, if at all. I have changed these cells over to raw now that the dbcamhd.json file exists so the cells will not run automatically. It should not be necessary to rerun these next few cells until CamHD comes back online and begins to generate new video files."
   ]
  },
  {
   "cell_type": "raw",
   "metadata": {},
   "source": [
    "%%time\n",
    "file_list, file_sizes = camhd.get_file_list();"
   ]
  },
  {
   "cell_type": "markdown",
   "metadata": {},
   "source": [
    "#### Create a Pandas dataframe from these Lists"
   ]
  },
  {
   "cell_type": "raw",
   "metadata": {},
   "source": [
    "dbcamhd = pd.DataFrame(\n",
    "    {'filename': file_list,\n",
    "     'filesize': file_sizes,\n",
    "    })\n",
    "dbcamhd.tail()"
   ]
  },
  {
   "cell_type": "markdown",
   "metadata": {},
   "source": [
    "#### Get some additional information about the files\n",
    "This cell takes a couple of hours to run in a single thread, which is why it is commented out. How much faster would it go using Dask Delayed and a bunch of Dask workers?"
   ]
  },
  {
   "cell_type": "raw",
   "metadata": {},
   "source": [
    "%%time\n",
    "timestamp = []\n",
    "frame_count = []\n",
    "moov = []\n",
    "\n",
    "for i in dbcamhd.index:\n",
    "    filename = dbcamhd['file'][i]\n",
    "    try:\n",
    "        moov_atom = camhd.get_moov_atom(filename)\n",
    "        timestamp.append(camhd.get_timestamp(filename, moov_atom))\n",
    "        frame_count.append(camhd.get_frame_count(filename, moov_atom))\n",
    "        moov.append(True)\n",
    "    except:\n",
    "        timestamp.append(0)\n",
    "        frame_count.append(0)\n",
    "        moov.append(False)\n",
    "    if (i % 100) == 0:\n",
    "        print(i)"
   ]
  },
  {
   "cell_type": "markdown",
   "metadata": {},
   "source": [
    "#### Add these to the dbcamhd dataframe"
   ]
  },
  {
   "cell_type": "raw",
   "metadata": {},
   "source": [
    "dbcamhd['moov'] = pd.Series(moov, index=dbcamhd.index)\n",
    "dbcamhd['timestamp'] = pd.Series(timestamp, index=dbcamhd.index)\n",
    "dbcamhd['frame_count'] = pd.Series(frame_count, index=dbcamhd.index)"
   ]
  },
  {
   "cell_type": "markdown",
   "metadata": {},
   "source": [
    "#### Save dataframe to JSON file"
   ]
  },
  {
   "cell_type": "raw",
   "metadata": {},
   "source": [
    "dbcamhd.to_json('dbcamhd.json', orient=\"records\", lines=True)"
   ]
  },
  {
   "cell_type": "markdown",
   "metadata": {},
   "source": [
    "#### Load dataframe from JSON file (do this instead of camhd.get_file_list())\n",
    "Here we load the dbcamhd JSON file that contains the results from the above cells."
   ]
  },
  {
   "cell_type": "code",
   "execution_count": null,
   "metadata": {},
   "outputs": [],
   "source": [
    "dbcamhd = pd.read_json('dbcamhd.json', orient=\"records\", lines=True)"
   ]
  },
  {
   "cell_type": "code",
   "execution_count": null,
   "metadata": {},
   "outputs": [],
   "source": [
    "dbcamhd.tail()"
   ]
  },
  {
   "cell_type": "markdown",
   "metadata": {},
   "source": [
    "#### Plot histogram of MOV sizes"
   ]
  },
  {
   "cell_type": "code",
   "execution_count": null,
   "metadata": {},
   "outputs": [],
   "source": [
    "import holoviews as hv\n",
    "hv.extension('bokeh')\n",
    "from bokeh.plotting import figure, show\n",
    "\n",
    "frequencies, edges = np.histogram(dbcamhd['filesize']/1024/1024/1024, bins=np.linspace(0,20,100))\n",
    "\n",
    "p = figure(title=\"MOV Size Distribution\")\n",
    "p.quad(top=frequencies, bottom=0, left=edges[:-1], right=edges[1:], fill_color=\"blue\", line_color=\"black\")\n",
    "p.xaxis.axis_label = 'Filesize (GB)'\n",
    "p.yaxis.axis_label = 'N'\n",
    "show(p)"
   ]
  },
  {
   "cell_type": "markdown",
   "metadata": {},
   "source": [
    "#### Plot subset of frame_counts"
   ]
  },
  {
   "cell_type": "code",
   "execution_count": null,
   "metadata": {},
   "outputs": [],
   "source": [
    "p = figure(x_axis_type='datetime', y_range=(0, 30000))\n",
    "min_t = 1400000000\n",
    "\n",
    "dates = pd.to_datetime(dbcamhd['timestamp'][dbcamhd.timestamp>min_t],unit='s')\n",
    "frame_count = dbcamhd['frame_count'][dbcamhd.timestamp>min_t]\n",
    "\n",
    "p.circle(dates, frame_count, size=1)\n",
    "show(p)"
   ]
  },
  {
   "cell_type": "markdown",
   "metadata": {},
   "source": [
    "### References\n",
    "\n",
    "https://github.com/tjcrone/pycamhd<br>\n",
    "https://rawdata.oceanobservatories.org/files/RS03ASHS/PN03B/06-CAMHDA301/<br>\n",
    "https://pandas.pydata.org/"
   ]
  }
 ],
 "metadata": {
  "language_info": {
   "name": "python",
   "pygments_lexer": "ipython3"
  }
 },
 "nbformat": 4,
 "nbformat_minor": 2
}

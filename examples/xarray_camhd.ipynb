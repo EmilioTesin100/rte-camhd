{
 "cells": [
  {
   "cell_type": "markdown",
   "metadata": {},
   "source": [
    "# Xarray and CamHD Data Example"
   ]
  },
  {
   "cell_type": "markdown",
   "metadata": {},
   "source": [
    "#### Imports"
   ]
  },
  {
   "cell_type": "code",
   "execution_count": null,
   "metadata": {},
   "outputs": [],
   "source": [
    "%matplotlib inline\n",
    "import pycamhd.pycamhd as camhd\n",
    "import numpy as np\n",
    "import matplotlib.pyplot as plt\n",
    "import pandas as pd\n",
    "import xarray as xr"
   ]
  },
  {
   "cell_type": "markdown",
   "metadata": {},
   "source": [
    "#### Load a set of frames using pycamhd"
   ]
  },
  {
   "cell_type": "code",
   "execution_count": null,
   "metadata": {},
   "outputs": [],
   "source": [
    "dbcamhd = pd.read_json('dbcamhd.json', orient=\"records\", lines=True)\n",
    "fileindex = 2064\n",
    "filename = dbcamhd['filename'][fileindex]\n",
    "frame_count = dbcamhd['frame_count'][fileindex]\n",
    "n_images = 1000\n",
    "frame_numbers = np.linspace(750,frame_count-6000, n_images, dtype=np.int64())"
   ]
  },
  {
   "cell_type": "code",
   "execution_count": null,
   "metadata": {},
   "outputs": [],
   "source": [
    "#%%time\n",
    "#frames = [] # fastest to append the frames into a list of ndarrays\n",
    "#for frame_number in frame_numbers:\n",
    "#    frames.append(camhd.get_frame(filename, frame_number, 'rgb24'))"
   ]
  },
  {
   "cell_type": "markdown",
   "metadata": {},
   "source": [
    "#### Load frames using pycamhd and dask\n",
    "Here we employ a Dask cluster and Delayed functions to speed up the fetching of images from the raw data server. Scale the cluster up to ~20 (Standard_D2_v3) nodes to fit 32 workers into the cluster."
   ]
  },
  {
   "cell_type": "code",
   "execution_count": null,
   "metadata": {},
   "outputs": [],
   "source": [
    "from dask_kubernetes import KubeCluster\n",
    "cluster = KubeCluster(n_workers=32)\n",
    "cluster"
   ]
  },
  {
   "cell_type": "code",
   "execution_count": null,
   "metadata": {},
   "outputs": [],
   "source": [
    "from dask import delayed, compute\n",
    "from dask.distributed import Client\n",
    "client = Client(cluster)\n",
    "client"
   ]
  },
  {
   "cell_type": "markdown",
   "metadata": {},
   "source": [
    "#### Create Xarray DataArray out of Dask delayed functions"
   ]
  },
  {
   "cell_type": "code",
   "execution_count": null,
   "metadata": {},
   "outputs": [],
   "source": [
    "import dask.array as dsa"
   ]
  },
  {
   "cell_type": "code",
   "execution_count": null,
   "metadata": {},
   "outputs": [],
   "source": [
    "delayed_frames = []\n",
    "for frame_number in frame_numbers:\n",
    "    delayed_frames.append(dsa.from_delayed(\n",
    "                            delayed(camhd.get_frame)(filename, frame_number, 'rgb24'),\n",
    "                            shape=(1080, 1920, 3), dtype=np.uint8)[None,:,:,:])"
   ]
  },
  {
   "cell_type": "code",
   "execution_count": null,
   "metadata": {},
   "outputs": [],
   "source": [
    "delayed_frames[0]"
   ]
  },
  {
   "cell_type": "code",
   "execution_count": null,
   "metadata": {},
   "outputs": [],
   "source": [
    "all_data = dsa.concatenate(delayed_frames, axis=0)\n",
    "all_data"
   ]
  },
  {
   "cell_type": "code",
   "execution_count": null,
   "metadata": {},
   "outputs": [],
   "source": [
    "ds = xr.DataArray(all_data, dims=['time', 'y', 'x', 'channel'],\n",
    "                  coords={'time': pd.date_range(start='2016-01-01', periods=all_data.shape[0])}\n",
    "                 ).to_dataset(name='video')\n",
    "ds"
   ]
  },
  {
   "cell_type": "code",
   "execution_count": null,
   "metadata": {},
   "outputs": [],
   "source": [
    "mean_image = ds.video.mean(dim='time').load()"
   ]
  },
  {
   "cell_type": "code",
   "execution_count": null,
   "metadata": {},
   "outputs": [],
   "source": [
    "mean_image.astype('i8').plot.imshow()"
   ]
  },
  {
   "cell_type": "code",
   "execution_count": null,
   "metadata": {},
   "outputs": [],
   "source": [
    "ds.to_netcdf('test.nc')"
   ]
  },
  {
   "cell_type": "code",
   "execution_count": null,
   "metadata": {},
   "outputs": [],
   "source": [
    "%%time\n",
    "delayed_frames = []\n",
    "for frame_number in frame_numbers:\n",
    "    delayed_frames.append(delayed(camhd.get_frame)(filename, frame_number, 'rgb24'))\n",
    "frames = compute(*delayed_frames)"
   ]
  },
  {
   "cell_type": "code",
   "execution_count": null,
   "metadata": {},
   "outputs": [],
   "source": [
    "delayed_frames"
   ]
  },
  {
   "cell_type": "markdown",
   "metadata": {},
   "source": [
    "#### Show results of benchmark testing\n",
    "We ran the above cells with n_images from 4 to 512, and with n_workers from 0 to 128. Here are the results from this investigation."
   ]
  },
  {
   "cell_type": "code",
   "execution_count": null,
   "metadata": {},
   "outputs": [],
   "source": [
    "bench_s = pd.DataFrame(\n",
    "    {'n_images': [4, 8, 16, 32, 64, 128, 256, 512],\n",
    "     0: [8.8, 16.4, 34.2, 68.0, 143.0, 300.0, 615.0, 1189.0],\n",
    "     2: [2.6, 6.3, 8.9, 18.8, 37.7, 76.0, 156.0, np.NaN],\n",
    "     4: [2.4, 2.5, 4.7, 9.4, 20.0, 38.9, 76.0, np.NaN],\n",
    "     8: [2.4, 2.5, 2.7, 5.1, 11.1, 20.5, 40.1, np.NaN],\n",
    "     16: [2.4, 2.4, 2.6, 3.3, 5.9, 12.0, 22.1, np.NaN],\n",
    "     32: [2.3, 2.4, 2.6, 3.5, 4.5, 9.1, 13.7, np.NaN],\n",
    "     64: [2.5, 2.5, 2.8, 3.4, 4.5, 7.0, 24.9, np.NaN],\n",
    "     96: [2.6, 2.6, 2.9, 4.0, 5.9, 7.7, 22.5, 25.0],\n",
    "     128: [2.4, 2.4, 2.8, 3.7, 4.5, 9.5, 13.5, 26.8],\n",
    "    })\n",
    "bench_s.set_index('n_images', inplace=True)\n",
    "bench_s"
   ]
  },
  {
   "cell_type": "code",
   "execution_count": null,
   "metadata": {},
   "outputs": [],
   "source": [
    "bench_fps = 1/bench_s.div(bench_s.index.to_series(), axis=0)\n",
    "bench_fps"
   ]
  },
  {
   "cell_type": "code",
   "execution_count": null,
   "metadata": {},
   "outputs": [],
   "source": [
    "ax = bench_fps.plot(figsize=(12, 8), marker='.', markersize=10)\n",
    "ax.set_ylabel('Frames Per Second');\n",
    "ax.set_xlabel('Number of Frames');"
   ]
  },
  {
   "cell_type": "markdown",
   "metadata": {},
   "source": [
    "#### Convert list to Xarray DataArray"
   ]
  },
  {
   "cell_type": "code",
   "execution_count": null,
   "metadata": {},
   "outputs": [],
   "source": [
    "channel = ['r', 'g', 'b']\n",
    "\n",
    "da = xr.DataArray(np.array(frames), \\\n",
    "                   coords=[frame_numbers, range(1080), range(1920), channel], \\\n",
    "                   dims=['frame','row','column','channel'])\n",
    "da"
   ]
  },
  {
   "cell_type": "code",
   "execution_count": null,
   "metadata": {},
   "outputs": [],
   "source": [
    "da['frame'==12600].plot.imshow()"
   ]
  },
  {
   "cell_type": "code",
   "execution_count": null,
   "metadata": {},
   "outputs": [],
   "source": [
    "np.savetxt('frame_rgb.txt', frame, fmt='%u')"
   ]
  },
  {
   "cell_type": "code",
   "execution_count": null,
   "metadata": {},
   "outputs": [],
   "source": [
    "frames = []\n",
    "for i in range(4000,4010):\n",
    "    print(i)\n",
    "    frames.append(camhd.get_frame(filename, frame_number, 'rgb24'))"
   ]
  },
  {
   "cell_type": "code",
   "execution_count": null,
   "metadata": {},
   "outputs": [],
   "source": [
    "frames.shape"
   ]
  },
  {
   "cell_type": "code",
   "execution_count": null,
   "metadata": {},
   "outputs": [],
   "source": [
    "test = np.array(frames)"
   ]
  },
  {
   "cell_type": "code",
   "execution_count": null,
   "metadata": {},
   "outputs": [],
   "source": [
    "type(test)"
   ]
  },
  {
   "cell_type": "code",
   "execution_count": null,
   "metadata": {},
   "outputs": [],
   "source": [
    "test.shape"
   ]
  },
  {
   "cell_type": "code",
   "execution_count": null,
   "metadata": {},
   "outputs": [],
   "source": [
    "ds = "
   ]
  },
  {
   "cell_type": "code",
   "execution_count": null,
   "metadata": {},
   "outputs": [],
   "source": [
    "list(range(10, 20, 2))"
   ]
  },
  {
   "cell_type": "code",
   "execution_count": null,
   "metadata": {},
   "outputs": [],
   "source": [
    "frames[0].shape"
   ]
  },
  {
   "cell_type": "code",
   "execution_count": null,
   "metadata": {},
   "outputs": [],
   "source": [
    "len(frames)"
   ]
  },
  {
   "cell_type": "code",
   "execution_count": null,
   "metadata": {},
   "outputs": [],
   "source": []
  },
  {
   "cell_type": "code",
   "execution_count": null,
   "metadata": {},
   "outputs": [],
   "source": [
    "data = np.array(frames)\n",
    "data.shape"
   ]
  },
  {
   "cell_type": "code",
   "execution_count": null,
   "metadata": {},
   "outputs": [],
   "source": [
    "ds = xr.DataArray(data, dims=['time', 'y', 'x', 'channel'],\n",
    "                  coords={'time': pd.date_range(start='2016-01-01', periods=data.shape[0])}\n",
    "                 ).to_dataset(name='video')\n",
    "ds"
   ]
  },
  {
   "cell_type": "code",
   "execution_count": null,
   "metadata": {},
   "outputs": [],
   "source": [
    "da.plot.imshow()"
   ]
  },
  {
   "cell_type": "code",
   "execution_count": null,
   "metadata": {},
   "outputs": [],
   "source": []
  }
 ],
 "metadata": {
  "language_info": {
   "name": "python",
   "pygments_lexer": "ipython3"
  }
 },
 "nbformat": 4,
 "nbformat_minor": 2
}

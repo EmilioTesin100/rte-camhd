{
 "cells": [
  {
   "cell_type": "markdown",
   "metadata": {},
   "source": [
    "# dbCamHD Update\n",
    "\n",
    "This notebook updates the dbcamhd.json metadata database."
   ]
  },
  {
   "cell_type": "markdown",
   "metadata": {},
   "source": [
    "#### Load the current database"
   ]
  },
  {
   "cell_type": "code",
   "execution_count": null,
   "metadata": {},
   "outputs": [],
   "source": [
    "import pandas as pd\n",
    "dbcamhd = pd.read_json('dbcamhd.json', orient=\"records\", lines=True).sort_values(by=['timestamp'])\n",
    "dbcamhd.tail()"
   ]
  },
  {
   "cell_type": "markdown",
   "metadata": {},
   "source": [
    "#### Get the last date in the database"
   ]
  },
  {
   "cell_type": "code",
   "execution_count": null,
   "metadata": {},
   "outputs": [],
   "source": [
    "from datetime import date\n",
    "year = int(dbcamhd.filename.iloc[-1].split('/')[7])\n",
    "month = int(dbcamhd.filename.iloc[-1].split('/')[8])\n",
    "day = int(dbcamhd.filename.iloc[-1].split('/')[9])\n",
    "start_date = date(year, month, day)\n",
    "start_date"
   ]
  },
  {
   "cell_type": "markdown",
   "metadata": {},
   "source": [
    "#### Get a list of the files since that date and convert to dataframe"
   ]
  },
  {
   "cell_type": "code",
   "execution_count": null,
   "metadata": {},
   "outputs": [],
   "source": [
    "import pycamhd as camhd"
   ]
  },
  {
   "cell_type": "code",
   "execution_count": null,
   "metadata": {},
   "outputs": [],
   "source": [
    "%%time\n",
    "file_list, file_sizes = camhd.get_file_list(start_date=start_date);"
   ]
  },
  {
   "cell_type": "code",
   "execution_count": null,
   "metadata": {},
   "outputs": [],
   "source": [
    "dbcamhd_new = pd.DataFrame(\n",
    "    {'filename': file_list,\n",
    "     'filesize': file_sizes,\n",
    "    })\n",
    "dbcamhd_new.tail()"
   ]
  },
  {
   "cell_type": "markdown",
   "metadata": {},
   "source": [
    "#### Get some additional information about the files\n",
    "This cell takes a couple of hours to run in a single thread, which is why it is commented out. How much faster would it go using Dask Delayed and a bunch of Dask workers?"
   ]
  },
  {
   "cell_type": "code",
   "execution_count": null,
   "metadata": {},
   "outputs": [],
   "source": [
    "%%time\n",
    "timestamp = []\n",
    "frame_count = []\n",
    "moov = []\n",
    "\n",
    "for i in dbcamhd_new.index:\n",
    "    filename = dbcamhd_new['filename'][i]\n",
    "    try:\n",
    "        moov_atom = camhd.get_moov_atom(filename)\n",
    "        timestamp.append(camhd.get_timestamp(filename, moov_atom))\n",
    "        frame_count.append(camhd.get_frame_count(filename, moov_atom))\n",
    "        moov.append(True)\n",
    "    except:\n",
    "        timestamp.append(0)\n",
    "        frame_count.append(0)\n",
    "        moov.append(False)"
   ]
  },
  {
   "cell_type": "markdown",
   "metadata": {},
   "source": [
    "#### Add these to the new dataframe"
   ]
  },
  {
   "cell_type": "code",
   "execution_count": null,
   "metadata": {},
   "outputs": [],
   "source": [
    "dbcamhd_new['moov'] = pd.Series(moov, index=dbcamhd_new.index)\n",
    "dbcamhd_new['timestamp'] = pd.Series(timestamp, index=dbcamhd_new.index)\n",
    "dbcamhd_new['frame_count'] = pd.Series(frame_count, index=dbcamhd_new.index)\n",
    "dbcamhd_new.tail()"
   ]
  },
  {
   "cell_type": "markdown",
   "metadata": {},
   "source": [
    "#### Add deployment numbers to the new dataframe\n",
    "\n",
    "See the [asset management](https://github.com/ooi-integration/asset-management/blob/master/deployment/RS03ASHS_Deploy.csv) page for deployment information."
   ]
  },
  {
   "cell_type": "code",
   "execution_count": null,
   "metadata": {},
   "outputs": [],
   "source": [
    "dt = pd.to_datetime(dbcamhd_new.timestamp, unit='s')\n",
    "dbcamhd_new['deployment'] = dbcamhd_new.timestamp*0\n",
    "dbcamhd_new.loc[dt < '2016-07-26 21:18:00', 'deployment'] = 2\n",
    "dbcamhd_new.loc[dt >= '2016-07-26 21:18:00', 'deployment'] = 3\n",
    "dbcamhd_new.loc[dt >= '2017-08-14 06:00:00', 'deployment'] = 4\n",
    "dbcamhd_new.loc[dt >= '2018-07-04 00:00:00', 'deployment'] = 5"
   ]
  },
  {
   "cell_type": "markdown",
   "metadata": {},
   "source": [
    "#### Concatenate and deduplicate"
   ]
  },
  {
   "cell_type": "code",
   "execution_count": null,
   "metadata": {},
   "outputs": [],
   "source": [
    "dbcamhd = pd.concat([dbcamhd, dbcamhd_new], ignore_index=True, sort=True).drop_duplicates(subset=['filename'])"
   ]
  },
  {
   "cell_type": "markdown",
   "metadata": {},
   "source": [
    "#### Save dataframe to JSON file"
   ]
  },
  {
   "cell_type": "code",
   "execution_count": null,
   "metadata": {},
   "outputs": [],
   "source": [
    "dbcamhd.to_json('dbcamhd.json', orient=\"records\", lines=True)"
   ]
  },
  {
   "cell_type": "markdown",
   "metadata": {},
   "source": [
    "### References\n",
    "\n",
    "https://github.com/tjcrone/pycamhd<br>\n",
    "https://rawdata.oceanobservatories.org/files/RS03ASHS/PN03B/06-CAMHDA301/<br>\n",
    "https://pandas.pydata.org/"
   ]
  }
 ],
 "metadata": {
  "kernelspec": {
   "display_name": "Python [conda env:conda]",
   "language": "python",
   "name": "conda-env-conda-py"
  },
  "language_info": {
   "codemirror_mode": {
    "name": "ipython",
    "version": 3
   },
   "file_extension": ".py",
   "mimetype": "text/x-python",
   "name": "python",
   "nbconvert_exporter": "python",
   "pygments_lexer": "ipython3",
   "version": "3.6.3"
  }
 },
 "nbformat": 4,
 "nbformat_minor": 2
}
